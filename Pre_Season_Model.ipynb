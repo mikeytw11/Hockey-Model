{
  "nbformat": 4,
  "nbformat_minor": 0,
  "metadata": {
    "colab": {
      "name": "Pre-Season Model.ipynb",
      "provenance": [],
      "authorship_tag": "ABX9TyN65y07z1gRGyibjg5dklrF",
      "include_colab_link": true
    },
    "kernelspec": {
      "name": "python3",
      "display_name": "Python 3"
    },
    "language_info": {
      "name": "python"
    }
  },
  "cells": [
    {
      "cell_type": "markdown",
      "metadata": {
        "id": "view-in-github",
        "colab_type": "text"
      },
      "source": [
        "<a href=\"https://colab.research.google.com/github/mikeytw11/Hockey-Model/blob/main/Pre_Season_Model.ipynb\" target=\"_parent\"><img src=\"https://colab.research.google.com/assets/colab-badge.svg\" alt=\"Open In Colab\"/></a>"
      ]
    },
    {
      "cell_type": "code",
      "execution_count": 1,
      "metadata": {
        "id": "vwb_CvUQgma1"
      },
      "outputs": [],
      "source": [
        "import pandas as pd\n",
        "import numpy as np\n",
        "import matplotlib.pyplot as plt\n",
        "import seaborn as sns"
      ]
    },
    {
      "cell_type": "code",
      "source": [
        "#Import Skater Data\n",
        "skater_EV_rates_raw = pd.read_csv('EV On-Ice Rates.csv')"
      ],
      "metadata": {
        "id": "BQjr2ah3sODP"
      },
      "execution_count": null,
      "outputs": []
    },
    {
      "cell_type": "code",
      "source": [
        "#Restrict data columns to Player, Season, Team, Position, GP, TOI, G/60, F/60, C/60, xG/60\n",
        "skater_EV_rates = skater_EV_rates_raw.loc[:,['Player','Season','Team','Position','GP','TOI','G±/60','F±/60','C±/60','xG±/60']]"
      ],
      "metadata": {
        "id": "qkw_oDvKsQQH"
      },
      "execution_count": null,
      "outputs": []
    },
    {
      "cell_type": "code",
      "source": [
        "#Convert TOI to seconds\n",
        "skater_EV_rates['TOI_EV'] = skater_EV_rates['TOI'] * 60"
      ],
      "metadata": {
        "id": "S42YCpfesUZ4"
      },
      "execution_count": null,
      "outputs": []
    },
    {
      "cell_type": "code",
      "source": [
        "#Separate Forwards and Defense in order to get averages for each position\n",
        "forwards_EV = skater_EV_rates.loc[skater_EV_rates.Position!=\"D\"]\n",
        "defense_EV = skater_EV_rates.loc[skater_EV_rates.Position==\"D\"]"
      ],
      "metadata": {
        "id": "uaL8vauvsX5k"
      },
      "execution_count": null,
      "outputs": []
    },
    {
      "cell_type": "code",
      "source": [
        "#Calculate Variables/s\n",
        "forwards_EV['G/s'] = forwards_EV['G±/60'] / 3600\n",
        "forwards_EV['F/s'] = forwards_EV['F±/60'] / 3600\n",
        "forwards_EV['C/s'] = forwards_EV['C±/60'] / 3600\n",
        "forwards_EV['xG/s'] = forwards_EV['xG±/60'] / 3600\n",
        "forwards_EV.head()"
      ],
      "metadata": {
        "id": "N_om8e0gsa5R"
      },
      "execution_count": null,
      "outputs": []
    },
    {
      "cell_type": "code",
      "source": [
        "#Calculate average/s for defense\n",
        "defense_EV['G/s'] = defense_EV['G±/60'] / 3600\n",
        "defense_EV['F/s'] = defense_EV['F±/60'] / 3600\n",
        "defense_EV['C/s'] = defense_EV['C±/60'] / 3600\n",
        "defense_EV['xG/s'] = defense_EV['xG±/60'] / 3600\n",
        "defense_EV.head()"
      ],
      "metadata": {
        "id": "caz2Blgnsfkt"
      },
      "execution_count": null,
      "outputs": []
    },
    {
      "cell_type": "code",
      "source": [
        "#Convert TOI_EV to seconds, Add column for G/s, F/s, C/s, xG/s\n",
        "skater_EV_rates['G Impact'] = (skater_EV_rates['G±/60'] / 3600) * skater_EV_rates['TOI_EV']\n",
        "skater_EV_rates['F Impact'] = (skater_EV_rates['F±/60'] / 3600) * skater_EV_rates['TOI_EV']\n",
        "skater_EV_rates['C Impact'] = (skater_EV_rates['C±/60'] / 3600) * skater_EV_rates['TOI_EV']\n",
        "skater_EV_rates['xG Impact'] = (skater_EV_rates['xG±/60'] / 3600) * skater_EV_rates['TOI_EV']\n",
        "skater_EV_rates"
      ],
      "metadata": {
        "id": "NsFSd-NEslMM"
      },
      "execution_count": null,
      "outputs": []
    },
    {
      "cell_type": "code",
      "source": [
        "#Reduce table data to Player, Season, Team, Position, GP, TOI_EV, G, F, C, xG Impact\n",
        "skater_EV_rates = skater_EV_rates.loc[:,['Player','Season', 'Team', 'Position', 'GP', 'TOI_EV','G Impact', 'F Impact', 'C Impact', 'xG Impact']]\n",
        "skater_EV_rates.head()"
      ],
      "metadata": {
        "id": "OuerO2wnsn5_"
      },
      "execution_count": null,
      "outputs": []
    }
  ]
}