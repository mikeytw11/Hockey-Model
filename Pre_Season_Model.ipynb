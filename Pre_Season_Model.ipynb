{
  "nbformat": 4,
  "nbformat_minor": 0,
  "metadata": {
    "colab": {
      "name": "Pre-Season Model.ipynb",
      "provenance": [],
      "authorship_tag": "ABX9TyPM875ZluxRqUq3lPGRLUJg",
      "include_colab_link": true
    },
    "kernelspec": {
      "name": "python3",
      "display_name": "Python 3"
    },
    "language_info": {
      "name": "python"
    }
  },
  "cells": [
    {
      "cell_type": "markdown",
      "metadata": {
        "id": "view-in-github",
        "colab_type": "text"
      },
      "source": [
        "<a href=\"https://colab.research.google.com/github/mikeytw11/Hockey-Model/blob/main/Pre_Season_Model.ipynb\" target=\"_parent\"><img src=\"https://colab.research.google.com/assets/colab-badge.svg\" alt=\"Open In Colab\"/></a>"
      ]
    },
    {
      "cell_type": "code",
      "execution_count": 1,
      "metadata": {
        "id": "vwb_CvUQgma1"
      },
      "outputs": [],
      "source": [
        "import pandas as pd\n",
        "import numpy as np\n",
        "import matplotlib.pyplot as plt\n",
        "import seaborn as sns"
      ]
    },
    {
      "cell_type": "code",
      "source": [
        "#Import Skater Data\n",
        "skater_EV_rates_raw = pd.read_csv('https://raw.githubusercontent.com/mikeytw11/Hockey-Model/main/Files/EV%20On-Ice%20Rates.csv')"
      ],
      "metadata": {
        "id": "BQjr2ah3sODP"
      },
      "execution_count": 2,
      "outputs": []
    },
    {
      "cell_type": "code",
      "source": [
        "#Restrict data columns to Player, Season, Team, Position, GP, TOI, G/60, F/60, C/60, xG/60\n",
        "skater_EV_rates = skater_EV_rates_raw.loc[:,['Player','Season','Team','Position','GP','TOI','G±/60','F±/60','C±/60','xG±/60']]"
      ],
      "metadata": {
        "id": "qkw_oDvKsQQH"
      },
      "execution_count": 3,
      "outputs": []
    },
    {
      "cell_type": "code",
      "source": [
        "#Convert TOI to seconds\n",
        "skater_EV_rates['TOI_EV'] = skater_EV_rates['TOI'] * 60"
      ],
      "metadata": {
        "id": "S42YCpfesUZ4"
      },
      "execution_count": 4,
      "outputs": []
    },
    {
      "cell_type": "code",
      "source": [
        "#Separate Forwards and Defense in order to get averages for each position\n",
        "forwards_EV = skater_EV_rates.loc[skater_EV_rates.Position!=\"D\"]\n",
        "defense_EV = skater_EV_rates.loc[skater_EV_rates.Position==\"D\"]\n",
        "#forwards_EV.head()"
      ],
      "metadata": {
        "id": "uaL8vauvsX5k"
      },
      "execution_count": 5,
      "outputs": []
    },
    {
      "cell_type": "code",
      "source": [
        "#Calculate Variables/s\n",
        "pd.options.mode.chained_assignment = None\n",
        "forwards_EV['G/s'] = forwards_EV['G±/60'] / 3600\n",
        "forwards_EV['F/s'] = forwards_EV['F±/60'] / 3600\n",
        "forwards_EV['C/s'] = forwards_EV['C±/60'] / 3600\n",
        "forwards_EV['xG/s'] = forwards_EV['xG±/60'] / 3600\n",
        "#forwards_EV.head()"
      ],
      "metadata": {
        "id": "N_om8e0gsa5R"
      },
      "execution_count": 6,
      "outputs": []
    },
    {
      "cell_type": "code",
      "source": [
        "#Calculate average/s for defense\n",
        "defense_EV['G/s'] = defense_EV['G±/60'] / 3600\n",
        "defense_EV['F/s'] = defense_EV['F±/60'] / 3600\n",
        "defense_EV['C/s'] = defense_EV['C±/60'] / 3600\n",
        "defense_EV['xG/s'] = defense_EV['xG±/60'] / 3600\n",
        "#defense_EV.head()"
      ],
      "metadata": {
        "id": "caz2Blgnsfkt"
      },
      "execution_count": 7,
      "outputs": []
    },
    {
      "cell_type": "code",
      "source": [
        "#Calculate averages per second for forwards and defensemen\n",
        "avg_forward_G = forwards_EV['G/s'].mean()\n",
        "avg_forward_F = forwards_EV['F/s'].mean()\n",
        "avg_forward_C = forwards_EV['C/s'].mean()\n",
        "avg_forward_xG = forwards_EV['xG/s'].mean()\n",
        "\n",
        "avg_defense_G = defense_EV['G/s'].mean()\n",
        "avg_defense_F = defense_EV['F/s'].mean()\n",
        "avg_defense_C = defense_EV['C/s'].mean()\n",
        "avg_defense_xG = defense_EV['xG/s'].mean()\n"
      ],
      "metadata": {
        "id": "SoHOfBu-kns6"
      },
      "execution_count": 8,
      "outputs": []
    },
    {
      "cell_type": "code",
      "source": [
        "#Add impact columns to Forward table\n",
        "forwards_EV['G Impact'] = (forwards_EV['G/s']-avg_forward_G) * forwards_EV['TOI_EV']\n",
        "forwards_EV['F Impact'] = (forwards_EV['F/s']-avg_forward_F) * forwards_EV['TOI_EV']\n",
        "forwards_EV['C Impact'] = (forwards_EV['C/s']-avg_forward_C) * forwards_EV['TOI_EV']\n",
        "forwards_EV['xG Impact'] = (forwards_EV['xG/s']-avg_forward_xG) * forwards_EV['TOI_EV']\n",
        "#forwards_EV"
      ],
      "metadata": {
        "id": "vh2laD0RujqT"
      },
      "execution_count": 9,
      "outputs": []
    },
    {
      "cell_type": "code",
      "source": [
        "#Restrict data for Forwards table\n",
        "forwards_EV = forwards_EV.loc[:,['Player', 'Season', 'Team', 'Position', 'GP', 'G Impact', 'F Impact', 'C Impact', 'xG Impact']]\n",
        "#forwards_EV.head()"
      ],
      "metadata": {
        "id": "6F2twVKVvDw9"
      },
      "execution_count": 10,
      "outputs": []
    },
    {
      "cell_type": "code",
      "source": [
        "#Add impact columns to defense table\n",
        "defense_EV['G Impact'] = (defense_EV['G/s']-avg_defense_G) * defense_EV['TOI_EV']\n",
        "defense_EV['F Impact'] = (defense_EV['F/s']-avg_defense_F) * defense_EV['TOI_EV']\n",
        "defense_EV['C Impact'] = (defense_EV['C/s']-avg_defense_C) * defense_EV['TOI_EV']\n",
        "defense_EV['xG Impact'] = (defense_EV['xG/s']-avg_defense_xG) * defense_EV['TOI_EV']\n",
        "#defense_EV"
      ],
      "metadata": {
        "id": "9NL4Wy9WwTT3"
      },
      "execution_count": 11,
      "outputs": []
    },
    {
      "cell_type": "code",
      "source": [
        "#Restrict data for defense table\n",
        "defense_EV = defense_EV.loc[:,['Player', 'Season', 'Team', 'Position', 'GP', 'G Impact', 'F Impact', 'C Impact', 'xG Impact']]\n",
        "#defense_EV.head()"
      ],
      "metadata": {
        "id": "Yh_oT3XTx9GR"
      },
      "execution_count": 12,
      "outputs": []
    },
    {
      "cell_type": "code",
      "source": [
        "#Merge forwards and defense tables together\n",
        "concat_frames = [forwards_EV, defense_EV]\n",
        "skater_EV = pd.concat(concat_frames)\n",
        "skater_EV"
      ],
      "metadata": {
        "id": "L39ShCqxyEex",
        "outputId": "7560a668-ad2b-4a61-eaab-b665abb4881b",
        "colab": {
          "base_uri": "https://localhost:8080/",
          "height": 424
        }
      },
      "execution_count": 13,
      "outputs": [
        {
          "output_type": "execute_result",
          "data": {
            "text/plain": [
              "               Player Season         Team Position  GP   G Impact    F Impact  \\\n",
              "0          A.J. Greer  21-22          N.J        L   9   0.223663   15.804349   \n",
              "8         Adam Brooks  19-20          TOR        C   7   2.073018    0.283848   \n",
              "9         Adam Brooks  20-21          TOR        C  11   3.385881    1.177490   \n",
              "10        Adam Brooks  21-22  MTL/VGK/WPG        C  25   2.741775  -19.820645   \n",
              "11          Adam Erne  19-20          DET        L  56 -19.885853  -93.055992   \n",
              "...               ...    ...          ...      ...  ..        ...         ...   \n",
              "2466  Zach Whitecloud  20-21          VGK        D  51  10.242078  101.286169   \n",
              "2467  Zach Whitecloud  21-22          VGK        D  59  17.933012  158.044676   \n",
              "2475      Zdeno Chara  19-20          BOS        D  68  25.828124  -18.622659   \n",
              "2476      Zdeno Chara  20-21          WSH        D  55   4.402653   -4.141999   \n",
              "2477      Zdeno Chara  21-22          NYI        D  72   9.434064 -155.798728   \n",
              "\n",
              "        C Impact  xG Impact  \n",
              "0      19.006918   1.023018  \n",
              "8      -1.472680   0.413894  \n",
              "9       6.324003   0.627826  \n",
              "10    -24.740183  -1.169779  \n",
              "11   -124.865892  -5.684628  \n",
              "...          ...        ...  \n",
              "2466  117.323810   5.590053  \n",
              "2467  147.294129  10.132147  \n",
              "2475  -39.886535   1.990773  \n",
              "2476   34.558235   3.024267  \n",
              "2477 -243.912961  -6.739430  \n",
              "\n",
              "[2480 rows x 9 columns]"
            ],
            "text/html": [
              "\n",
              "  <div id=\"df-3d60bcb8-388d-4a9c-b034-d448184e3fab\">\n",
              "    <div class=\"colab-df-container\">\n",
              "      <div>\n",
              "<style scoped>\n",
              "    .dataframe tbody tr th:only-of-type {\n",
              "        vertical-align: middle;\n",
              "    }\n",
              "\n",
              "    .dataframe tbody tr th {\n",
              "        vertical-align: top;\n",
              "    }\n",
              "\n",
              "    .dataframe thead th {\n",
              "        text-align: right;\n",
              "    }\n",
              "</style>\n",
              "<table border=\"1\" class=\"dataframe\">\n",
              "  <thead>\n",
              "    <tr style=\"text-align: right;\">\n",
              "      <th></th>\n",
              "      <th>Player</th>\n",
              "      <th>Season</th>\n",
              "      <th>Team</th>\n",
              "      <th>Position</th>\n",
              "      <th>GP</th>\n",
              "      <th>G Impact</th>\n",
              "      <th>F Impact</th>\n",
              "      <th>C Impact</th>\n",
              "      <th>xG Impact</th>\n",
              "    </tr>\n",
              "  </thead>\n",
              "  <tbody>\n",
              "    <tr>\n",
              "      <th>0</th>\n",
              "      <td>A.J. Greer</td>\n",
              "      <td>21-22</td>\n",
              "      <td>N.J</td>\n",
              "      <td>L</td>\n",
              "      <td>9</td>\n",
              "      <td>0.223663</td>\n",
              "      <td>15.804349</td>\n",
              "      <td>19.006918</td>\n",
              "      <td>1.023018</td>\n",
              "    </tr>\n",
              "    <tr>\n",
              "      <th>8</th>\n",
              "      <td>Adam Brooks</td>\n",
              "      <td>19-20</td>\n",
              "      <td>TOR</td>\n",
              "      <td>C</td>\n",
              "      <td>7</td>\n",
              "      <td>2.073018</td>\n",
              "      <td>0.283848</td>\n",
              "      <td>-1.472680</td>\n",
              "      <td>0.413894</td>\n",
              "    </tr>\n",
              "    <tr>\n",
              "      <th>9</th>\n",
              "      <td>Adam Brooks</td>\n",
              "      <td>20-21</td>\n",
              "      <td>TOR</td>\n",
              "      <td>C</td>\n",
              "      <td>11</td>\n",
              "      <td>3.385881</td>\n",
              "      <td>1.177490</td>\n",
              "      <td>6.324003</td>\n",
              "      <td>0.627826</td>\n",
              "    </tr>\n",
              "    <tr>\n",
              "      <th>10</th>\n",
              "      <td>Adam Brooks</td>\n",
              "      <td>21-22</td>\n",
              "      <td>MTL/VGK/WPG</td>\n",
              "      <td>C</td>\n",
              "      <td>25</td>\n",
              "      <td>2.741775</td>\n",
              "      <td>-19.820645</td>\n",
              "      <td>-24.740183</td>\n",
              "      <td>-1.169779</td>\n",
              "    </tr>\n",
              "    <tr>\n",
              "      <th>11</th>\n",
              "      <td>Adam Erne</td>\n",
              "      <td>19-20</td>\n",
              "      <td>DET</td>\n",
              "      <td>L</td>\n",
              "      <td>56</td>\n",
              "      <td>-19.885853</td>\n",
              "      <td>-93.055992</td>\n",
              "      <td>-124.865892</td>\n",
              "      <td>-5.684628</td>\n",
              "    </tr>\n",
              "    <tr>\n",
              "      <th>...</th>\n",
              "      <td>...</td>\n",
              "      <td>...</td>\n",
              "      <td>...</td>\n",
              "      <td>...</td>\n",
              "      <td>...</td>\n",
              "      <td>...</td>\n",
              "      <td>...</td>\n",
              "      <td>...</td>\n",
              "      <td>...</td>\n",
              "    </tr>\n",
              "    <tr>\n",
              "      <th>2466</th>\n",
              "      <td>Zach Whitecloud</td>\n",
              "      <td>20-21</td>\n",
              "      <td>VGK</td>\n",
              "      <td>D</td>\n",
              "      <td>51</td>\n",
              "      <td>10.242078</td>\n",
              "      <td>101.286169</td>\n",
              "      <td>117.323810</td>\n",
              "      <td>5.590053</td>\n",
              "    </tr>\n",
              "    <tr>\n",
              "      <th>2467</th>\n",
              "      <td>Zach Whitecloud</td>\n",
              "      <td>21-22</td>\n",
              "      <td>VGK</td>\n",
              "      <td>D</td>\n",
              "      <td>59</td>\n",
              "      <td>17.933012</td>\n",
              "      <td>158.044676</td>\n",
              "      <td>147.294129</td>\n",
              "      <td>10.132147</td>\n",
              "    </tr>\n",
              "    <tr>\n",
              "      <th>2475</th>\n",
              "      <td>Zdeno Chara</td>\n",
              "      <td>19-20</td>\n",
              "      <td>BOS</td>\n",
              "      <td>D</td>\n",
              "      <td>68</td>\n",
              "      <td>25.828124</td>\n",
              "      <td>-18.622659</td>\n",
              "      <td>-39.886535</td>\n",
              "      <td>1.990773</td>\n",
              "    </tr>\n",
              "    <tr>\n",
              "      <th>2476</th>\n",
              "      <td>Zdeno Chara</td>\n",
              "      <td>20-21</td>\n",
              "      <td>WSH</td>\n",
              "      <td>D</td>\n",
              "      <td>55</td>\n",
              "      <td>4.402653</td>\n",
              "      <td>-4.141999</td>\n",
              "      <td>34.558235</td>\n",
              "      <td>3.024267</td>\n",
              "    </tr>\n",
              "    <tr>\n",
              "      <th>2477</th>\n",
              "      <td>Zdeno Chara</td>\n",
              "      <td>21-22</td>\n",
              "      <td>NYI</td>\n",
              "      <td>D</td>\n",
              "      <td>72</td>\n",
              "      <td>9.434064</td>\n",
              "      <td>-155.798728</td>\n",
              "      <td>-243.912961</td>\n",
              "      <td>-6.739430</td>\n",
              "    </tr>\n",
              "  </tbody>\n",
              "</table>\n",
              "<p>2480 rows × 9 columns</p>\n",
              "</div>\n",
              "      <button class=\"colab-df-convert\" onclick=\"convertToInteractive('df-3d60bcb8-388d-4a9c-b034-d448184e3fab')\"\n",
              "              title=\"Convert this dataframe to an interactive table.\"\n",
              "              style=\"display:none;\">\n",
              "        \n",
              "  <svg xmlns=\"http://www.w3.org/2000/svg\" height=\"24px\"viewBox=\"0 0 24 24\"\n",
              "       width=\"24px\">\n",
              "    <path d=\"M0 0h24v24H0V0z\" fill=\"none\"/>\n",
              "    <path d=\"M18.56 5.44l.94 2.06.94-2.06 2.06-.94-2.06-.94-.94-2.06-.94 2.06-2.06.94zm-11 1L8.5 8.5l.94-2.06 2.06-.94-2.06-.94L8.5 2.5l-.94 2.06-2.06.94zm10 10l.94 2.06.94-2.06 2.06-.94-2.06-.94-.94-2.06-.94 2.06-2.06.94z\"/><path d=\"M17.41 7.96l-1.37-1.37c-.4-.4-.92-.59-1.43-.59-.52 0-1.04.2-1.43.59L10.3 9.45l-7.72 7.72c-.78.78-.78 2.05 0 2.83L4 21.41c.39.39.9.59 1.41.59.51 0 1.02-.2 1.41-.59l7.78-7.78 2.81-2.81c.8-.78.8-2.07 0-2.86zM5.41 20L4 18.59l7.72-7.72 1.47 1.35L5.41 20z\"/>\n",
              "  </svg>\n",
              "      </button>\n",
              "      \n",
              "  <style>\n",
              "    .colab-df-container {\n",
              "      display:flex;\n",
              "      flex-wrap:wrap;\n",
              "      gap: 12px;\n",
              "    }\n",
              "\n",
              "    .colab-df-convert {\n",
              "      background-color: #E8F0FE;\n",
              "      border: none;\n",
              "      border-radius: 50%;\n",
              "      cursor: pointer;\n",
              "      display: none;\n",
              "      fill: #1967D2;\n",
              "      height: 32px;\n",
              "      padding: 0 0 0 0;\n",
              "      width: 32px;\n",
              "    }\n",
              "\n",
              "    .colab-df-convert:hover {\n",
              "      background-color: #E2EBFA;\n",
              "      box-shadow: 0px 1px 2px rgba(60, 64, 67, 0.3), 0px 1px 3px 1px rgba(60, 64, 67, 0.15);\n",
              "      fill: #174EA6;\n",
              "    }\n",
              "\n",
              "    [theme=dark] .colab-df-convert {\n",
              "      background-color: #3B4455;\n",
              "      fill: #D2E3FC;\n",
              "    }\n",
              "\n",
              "    [theme=dark] .colab-df-convert:hover {\n",
              "      background-color: #434B5C;\n",
              "      box-shadow: 0px 1px 3px 1px rgba(0, 0, 0, 0.15);\n",
              "      filter: drop-shadow(0px 1px 2px rgba(0, 0, 0, 0.3));\n",
              "      fill: #FFFFFF;\n",
              "    }\n",
              "  </style>\n",
              "\n",
              "      <script>\n",
              "        const buttonEl =\n",
              "          document.querySelector('#df-3d60bcb8-388d-4a9c-b034-d448184e3fab button.colab-df-convert');\n",
              "        buttonEl.style.display =\n",
              "          google.colab.kernel.accessAllowed ? 'block' : 'none';\n",
              "\n",
              "        async function convertToInteractive(key) {\n",
              "          const element = document.querySelector('#df-3d60bcb8-388d-4a9c-b034-d448184e3fab');\n",
              "          const dataTable =\n",
              "            await google.colab.kernel.invokeFunction('convertToInteractive',\n",
              "                                                     [key], {});\n",
              "          if (!dataTable) return;\n",
              "\n",
              "          const docLinkHtml = 'Like what you see? Visit the ' +\n",
              "            '<a target=\"_blank\" href=https://colab.research.google.com/notebooks/data_table.ipynb>data table notebook</a>'\n",
              "            + ' to learn more about interactive tables.';\n",
              "          element.innerHTML = '';\n",
              "          dataTable['output_type'] = 'display_data';\n",
              "          await google.colab.output.renderOutput(dataTable, element);\n",
              "          const docLink = document.createElement('div');\n",
              "          docLink.innerHTML = docLinkHtml;\n",
              "          element.appendChild(docLink);\n",
              "        }\n",
              "      </script>\n",
              "    </div>\n",
              "  </div>\n",
              "  "
            ]
          },
          "metadata": {},
          "execution_count": 13
        }
      ]
    },
    {
      "cell_type": "code",
      "source": [
        "#Import Skater PP Data\n",
        "skater_PP_rates_raw = pd.read_csv('https://raw.githubusercontent.com/mikeytw11/Hockey-Model/main/Files/PP%20On-Ice%20Rates.csv')\n",
        "#skater_PP_rates_raw.head()"
      ],
      "metadata": {
        "id": "U7PgPSTprUtz"
      },
      "execution_count": 14,
      "outputs": []
    },
    {
      "cell_type": "code",
      "source": [
        "#Restrict data columns to Player, Season, Team, Position, GP, TOI, G/60, F/60, C/60, xG/60\n",
        "skater_PP_rates = skater_PP_rates_raw.loc[:,['Player','Season','Team','Position','GP','TOI','G±/60','F±/60','C±/60','xG±/60']]\n",
        "#skater_PP_rates.head()"
      ],
      "metadata": {
        "id": "WPyhyoBZuKJC"
      },
      "execution_count": 15,
      "outputs": []
    },
    {
      "cell_type": "code",
      "source": [
        "#Convert TOI to seconds\n",
        "skater_PP_rates['TOI_PP'] = skater_PP_rates['TOI'] * 60"
      ],
      "metadata": {
        "id": "z9adJUk2unD5"
      },
      "execution_count": 16,
      "outputs": []
    },
    {
      "cell_type": "code",
      "source": [
        "#Separate Forwards and Defense in order to get averages for each position\n",
        "forwards_PP = skater_PP_rates.loc[skater_PP_rates.Position!=\"D\"]\n",
        "defense_PP = skater_PP_rates.loc[skater_PP_rates.Position==\"D\"]\n",
        "#forwards_PP.head()"
      ],
      "metadata": {
        "id": "ZHVHP08KuXvF"
      },
      "execution_count": 17,
      "outputs": []
    },
    {
      "cell_type": "code",
      "source": [
        "#Calculate Variables/s\n",
        "pd.options.mode.chained_assignment = None\n",
        "forwards_PP['G/s'] = forwards_PP['G±/60'] / 3600\n",
        "forwards_PP['F/s'] = forwards_PP['F±/60'] / 3600\n",
        "forwards_PP['C/s'] = forwards_PP['C±/60'] / 3600\n",
        "forwards_PP['xG/s'] = forwards_PP['xG±/60'] / 3600\n",
        "#forwards_PP.head()"
      ],
      "metadata": {
        "id": "xIEhGbvwvCoi"
      },
      "execution_count": 18,
      "outputs": []
    },
    {
      "cell_type": "code",
      "source": [
        "#Calculate variable/s for defense\n",
        "defense_PP['G/s'] = defense_PP['G±/60'] / 3600\n",
        "defense_PP['F/s'] = defense_PP['F±/60'] / 3600\n",
        "defense_PP['C/s'] = defense_PP['C±/60'] / 3600\n",
        "defense_PP['xG/s'] = defense_PP['xG±/60'] / 3600\n",
        "#defense_PP.head()"
      ],
      "metadata": {
        "id": "xM8gWtCAwUd_"
      },
      "execution_count": 19,
      "outputs": []
    },
    {
      "cell_type": "code",
      "source": [
        "#Calculate averages per second for forwards and defensemen\n",
        "avg_forward_G_PP = forwards_PP['G/s'].mean()\n",
        "avg_forward_F_PP = forwards_PP['F/s'].mean()\n",
        "avg_forward_C_PP = forwards_PP['C/s'].mean()\n",
        "avg_forward_xG_PP = forwards_PP['xG/s'].mean()\n",
        "\n",
        "avg_defense_G_PP = defense_PP['G/s'].mean()\n",
        "avg_defense_F_PP = defense_PP['F/s'].mean()\n",
        "avg_defense_C_PP = defense_PP['C/s'].mean()\n",
        "avg_defense_xG_PP = defense_PP['xG/s'].mean()"
      ],
      "metadata": {
        "id": "3MuyDckHwhg3"
      },
      "execution_count": 20,
      "outputs": []
    },
    {
      "cell_type": "code",
      "source": [
        "#Add impact columns to Forward table\n",
        "forwards_PP['G Impact'] = (forwards_PP['G/s']-avg_forward_G_PP) * forwards_PP['TOI_PP']\n",
        "forwards_PP['F Impact'] = (forwards_PP['F/s']-avg_forward_F_PP) * forwards_PP['TOI_PP']\n",
        "forwards_PP['C Impact'] = (forwards_PP['C/s']-avg_forward_C_PP) * forwards_PP['TOI_PP']\n",
        "forwards_PP['xG Impact'] = (forwards_PP['xG/s']-avg_forward_xG_PP) * forwards_PP['TOI_PP']\n",
        "#forwards_PP"
      ],
      "metadata": {
        "id": "o9vLOP5-xPWs"
      },
      "execution_count": 21,
      "outputs": []
    },
    {
      "cell_type": "code",
      "source": [
        "#Restrict data for Forwards table\n",
        "forwards_PP = forwards_PP.loc[:,['Player', 'Season', 'Team', 'Position', 'GP', 'G Impact', 'F Impact', 'C Impact', 'xG Impact']]\n",
        "#forwards_PP.head()"
      ],
      "metadata": {
        "id": "_VVeLeCKxjDx"
      },
      "execution_count": 22,
      "outputs": []
    },
    {
      "cell_type": "code",
      "source": [
        "#Add impact columns to defense table\n",
        "defense_PP['G Impact'] = (defense_PP['G/s']-avg_defense_G_PP) * defense_PP['TOI_PP']\n",
        "defense_PP['F Impact'] = (defense_PP['F/s']-avg_defense_F_PP) * defense_PP['TOI_PP']\n",
        "defense_PP['C Impact'] = (defense_PP['C/s']-avg_defense_C_PP) * defense_PP['TOI_PP']\n",
        "defense_PP['xG Impact'] = (defense_PP['xG/s']-avg_defense_xG_PP) * defense_PP['TOI_PP']\n",
        "#defense_PP"
      ],
      "metadata": {
        "id": "Z8zp5-FjxyJt"
      },
      "execution_count": 23,
      "outputs": []
    },
    {
      "cell_type": "code",
      "source": [
        "#Restrict data for defense table\n",
        "defense_PP = defense_PP.loc[:,['Player', 'Season', 'Team', 'Position', 'GP', 'G Impact', 'F Impact', 'C Impact', 'xG Impact']]\n",
        "#defense_PP.head()"
      ],
      "metadata": {
        "id": "UxpNrGAIydTb"
      },
      "execution_count": 24,
      "outputs": []
    },
    {
      "cell_type": "code",
      "source": [
        "#Merge forwards and defense tables together\n",
        "concat_frames = [forwards_PP, defense_PP]\n",
        "skater_PP = pd.concat(concat_frames)\n",
        "skater_PP"
      ],
      "metadata": {
        "id": "qB30KELdyp8O",
        "outputId": "895ad7a0-a39f-45c9-eb49-ca9def06eb15",
        "colab": {
          "base_uri": "https://localhost:8080/",
          "height": 424
        }
      },
      "execution_count": 25,
      "outputs": [
        {
          "output_type": "execute_result",
          "data": {
            "text/plain": [
              "             Player Season     Team Position  GP  G Impact   F Impact  \\\n",
              "6         Adam Erne  19-20      DET        L  55 -5.673323 -35.557240   \n",
              "7         Adam Erne  20-21      DET        L  44 -0.768159 -25.651894   \n",
              "8         Adam Erne  21-22      DET        L  77 -6.042810 -17.273673   \n",
              "12    Adam Gaudette  19-20      VAN        C  58  8.187853   0.013922   \n",
              "13    Adam Gaudette  20-21  CHI/VAN        C  40 -2.091285 -13.279698   \n",
              "...             ...    ...      ...      ...  ..       ...        ...   \n",
              "1254   Will Butcher  21-22      BUF        D  37  1.649754  -2.538496   \n",
              "1262  Wyatt Kalynuk  20-21      CHI        D  21 -0.241431   5.724222   \n",
              "1279  Zach Werenski  19-20      CBJ        D  63 -2.311842   5.722068   \n",
              "1280  Zach Werenski  20-21      CBJ        D  33 -1.742317 -11.339614   \n",
              "1281  Zach Werenski  21-22      CBJ        D  64  2.079144  26.923123   \n",
              "\n",
              "       C Impact  xG Impact  \n",
              "6    -42.736553  -3.039736  \n",
              "7    -21.354477  -2.398876  \n",
              "8    -27.840542  -1.660783  \n",
              "12     1.828173  -0.460368  \n",
              "13   -14.400660  -1.034855  \n",
              "...         ...        ...  \n",
              "1254  -6.541114  -0.133780  \n",
              "1262   9.543318   0.435168  \n",
              "1279   3.301522  -0.495800  \n",
              "1280 -16.808672  -2.139052  \n",
              "1281  41.922267  -0.192952  \n",
              "\n",
              "[1284 rows x 9 columns]"
            ],
            "text/html": [
              "\n",
              "  <div id=\"df-cadec713-4766-4041-b725-0577136e59fa\">\n",
              "    <div class=\"colab-df-container\">\n",
              "      <div>\n",
              "<style scoped>\n",
              "    .dataframe tbody tr th:only-of-type {\n",
              "        vertical-align: middle;\n",
              "    }\n",
              "\n",
              "    .dataframe tbody tr th {\n",
              "        vertical-align: top;\n",
              "    }\n",
              "\n",
              "    .dataframe thead th {\n",
              "        text-align: right;\n",
              "    }\n",
              "</style>\n",
              "<table border=\"1\" class=\"dataframe\">\n",
              "  <thead>\n",
              "    <tr style=\"text-align: right;\">\n",
              "      <th></th>\n",
              "      <th>Player</th>\n",
              "      <th>Season</th>\n",
              "      <th>Team</th>\n",
              "      <th>Position</th>\n",
              "      <th>GP</th>\n",
              "      <th>G Impact</th>\n",
              "      <th>F Impact</th>\n",
              "      <th>C Impact</th>\n",
              "      <th>xG Impact</th>\n",
              "    </tr>\n",
              "  </thead>\n",
              "  <tbody>\n",
              "    <tr>\n",
              "      <th>6</th>\n",
              "      <td>Adam Erne</td>\n",
              "      <td>19-20</td>\n",
              "      <td>DET</td>\n",
              "      <td>L</td>\n",
              "      <td>55</td>\n",
              "      <td>-5.673323</td>\n",
              "      <td>-35.557240</td>\n",
              "      <td>-42.736553</td>\n",
              "      <td>-3.039736</td>\n",
              "    </tr>\n",
              "    <tr>\n",
              "      <th>7</th>\n",
              "      <td>Adam Erne</td>\n",
              "      <td>20-21</td>\n",
              "      <td>DET</td>\n",
              "      <td>L</td>\n",
              "      <td>44</td>\n",
              "      <td>-0.768159</td>\n",
              "      <td>-25.651894</td>\n",
              "      <td>-21.354477</td>\n",
              "      <td>-2.398876</td>\n",
              "    </tr>\n",
              "    <tr>\n",
              "      <th>8</th>\n",
              "      <td>Adam Erne</td>\n",
              "      <td>21-22</td>\n",
              "      <td>DET</td>\n",
              "      <td>L</td>\n",
              "      <td>77</td>\n",
              "      <td>-6.042810</td>\n",
              "      <td>-17.273673</td>\n",
              "      <td>-27.840542</td>\n",
              "      <td>-1.660783</td>\n",
              "    </tr>\n",
              "    <tr>\n",
              "      <th>12</th>\n",
              "      <td>Adam Gaudette</td>\n",
              "      <td>19-20</td>\n",
              "      <td>VAN</td>\n",
              "      <td>C</td>\n",
              "      <td>58</td>\n",
              "      <td>8.187853</td>\n",
              "      <td>0.013922</td>\n",
              "      <td>1.828173</td>\n",
              "      <td>-0.460368</td>\n",
              "    </tr>\n",
              "    <tr>\n",
              "      <th>13</th>\n",
              "      <td>Adam Gaudette</td>\n",
              "      <td>20-21</td>\n",
              "      <td>CHI/VAN</td>\n",
              "      <td>C</td>\n",
              "      <td>40</td>\n",
              "      <td>-2.091285</td>\n",
              "      <td>-13.279698</td>\n",
              "      <td>-14.400660</td>\n",
              "      <td>-1.034855</td>\n",
              "    </tr>\n",
              "    <tr>\n",
              "      <th>...</th>\n",
              "      <td>...</td>\n",
              "      <td>...</td>\n",
              "      <td>...</td>\n",
              "      <td>...</td>\n",
              "      <td>...</td>\n",
              "      <td>...</td>\n",
              "      <td>...</td>\n",
              "      <td>...</td>\n",
              "      <td>...</td>\n",
              "    </tr>\n",
              "    <tr>\n",
              "      <th>1254</th>\n",
              "      <td>Will Butcher</td>\n",
              "      <td>21-22</td>\n",
              "      <td>BUF</td>\n",
              "      <td>D</td>\n",
              "      <td>37</td>\n",
              "      <td>1.649754</td>\n",
              "      <td>-2.538496</td>\n",
              "      <td>-6.541114</td>\n",
              "      <td>-0.133780</td>\n",
              "    </tr>\n",
              "    <tr>\n",
              "      <th>1262</th>\n",
              "      <td>Wyatt Kalynuk</td>\n",
              "      <td>20-21</td>\n",
              "      <td>CHI</td>\n",
              "      <td>D</td>\n",
              "      <td>21</td>\n",
              "      <td>-0.241431</td>\n",
              "      <td>5.724222</td>\n",
              "      <td>9.543318</td>\n",
              "      <td>0.435168</td>\n",
              "    </tr>\n",
              "    <tr>\n",
              "      <th>1279</th>\n",
              "      <td>Zach Werenski</td>\n",
              "      <td>19-20</td>\n",
              "      <td>CBJ</td>\n",
              "      <td>D</td>\n",
              "      <td>63</td>\n",
              "      <td>-2.311842</td>\n",
              "      <td>5.722068</td>\n",
              "      <td>3.301522</td>\n",
              "      <td>-0.495800</td>\n",
              "    </tr>\n",
              "    <tr>\n",
              "      <th>1280</th>\n",
              "      <td>Zach Werenski</td>\n",
              "      <td>20-21</td>\n",
              "      <td>CBJ</td>\n",
              "      <td>D</td>\n",
              "      <td>33</td>\n",
              "      <td>-1.742317</td>\n",
              "      <td>-11.339614</td>\n",
              "      <td>-16.808672</td>\n",
              "      <td>-2.139052</td>\n",
              "    </tr>\n",
              "    <tr>\n",
              "      <th>1281</th>\n",
              "      <td>Zach Werenski</td>\n",
              "      <td>21-22</td>\n",
              "      <td>CBJ</td>\n",
              "      <td>D</td>\n",
              "      <td>64</td>\n",
              "      <td>2.079144</td>\n",
              "      <td>26.923123</td>\n",
              "      <td>41.922267</td>\n",
              "      <td>-0.192952</td>\n",
              "    </tr>\n",
              "  </tbody>\n",
              "</table>\n",
              "<p>1284 rows × 9 columns</p>\n",
              "</div>\n",
              "      <button class=\"colab-df-convert\" onclick=\"convertToInteractive('df-cadec713-4766-4041-b725-0577136e59fa')\"\n",
              "              title=\"Convert this dataframe to an interactive table.\"\n",
              "              style=\"display:none;\">\n",
              "        \n",
              "  <svg xmlns=\"http://www.w3.org/2000/svg\" height=\"24px\"viewBox=\"0 0 24 24\"\n",
              "       width=\"24px\">\n",
              "    <path d=\"M0 0h24v24H0V0z\" fill=\"none\"/>\n",
              "    <path d=\"M18.56 5.44l.94 2.06.94-2.06 2.06-.94-2.06-.94-.94-2.06-.94 2.06-2.06.94zm-11 1L8.5 8.5l.94-2.06 2.06-.94-2.06-.94L8.5 2.5l-.94 2.06-2.06.94zm10 10l.94 2.06.94-2.06 2.06-.94-2.06-.94-.94-2.06-.94 2.06-2.06.94z\"/><path d=\"M17.41 7.96l-1.37-1.37c-.4-.4-.92-.59-1.43-.59-.52 0-1.04.2-1.43.59L10.3 9.45l-7.72 7.72c-.78.78-.78 2.05 0 2.83L4 21.41c.39.39.9.59 1.41.59.51 0 1.02-.2 1.41-.59l7.78-7.78 2.81-2.81c.8-.78.8-2.07 0-2.86zM5.41 20L4 18.59l7.72-7.72 1.47 1.35L5.41 20z\"/>\n",
              "  </svg>\n",
              "      </button>\n",
              "      \n",
              "  <style>\n",
              "    .colab-df-container {\n",
              "      display:flex;\n",
              "      flex-wrap:wrap;\n",
              "      gap: 12px;\n",
              "    }\n",
              "\n",
              "    .colab-df-convert {\n",
              "      background-color: #E8F0FE;\n",
              "      border: none;\n",
              "      border-radius: 50%;\n",
              "      cursor: pointer;\n",
              "      display: none;\n",
              "      fill: #1967D2;\n",
              "      height: 32px;\n",
              "      padding: 0 0 0 0;\n",
              "      width: 32px;\n",
              "    }\n",
              "\n",
              "    .colab-df-convert:hover {\n",
              "      background-color: #E2EBFA;\n",
              "      box-shadow: 0px 1px 2px rgba(60, 64, 67, 0.3), 0px 1px 3px 1px rgba(60, 64, 67, 0.15);\n",
              "      fill: #174EA6;\n",
              "    }\n",
              "\n",
              "    [theme=dark] .colab-df-convert {\n",
              "      background-color: #3B4455;\n",
              "      fill: #D2E3FC;\n",
              "    }\n",
              "\n",
              "    [theme=dark] .colab-df-convert:hover {\n",
              "      background-color: #434B5C;\n",
              "      box-shadow: 0px 1px 3px 1px rgba(0, 0, 0, 0.15);\n",
              "      filter: drop-shadow(0px 1px 2px rgba(0, 0, 0, 0.3));\n",
              "      fill: #FFFFFF;\n",
              "    }\n",
              "  </style>\n",
              "\n",
              "      <script>\n",
              "        const buttonEl =\n",
              "          document.querySelector('#df-cadec713-4766-4041-b725-0577136e59fa button.colab-df-convert');\n",
              "        buttonEl.style.display =\n",
              "          google.colab.kernel.accessAllowed ? 'block' : 'none';\n",
              "\n",
              "        async function convertToInteractive(key) {\n",
              "          const element = document.querySelector('#df-cadec713-4766-4041-b725-0577136e59fa');\n",
              "          const dataTable =\n",
              "            await google.colab.kernel.invokeFunction('convertToInteractive',\n",
              "                                                     [key], {});\n",
              "          if (!dataTable) return;\n",
              "\n",
              "          const docLinkHtml = 'Like what you see? Visit the ' +\n",
              "            '<a target=\"_blank\" href=https://colab.research.google.com/notebooks/data_table.ipynb>data table notebook</a>'\n",
              "            + ' to learn more about interactive tables.';\n",
              "          element.innerHTML = '';\n",
              "          dataTable['output_type'] = 'display_data';\n",
              "          await google.colab.output.renderOutput(dataTable, element);\n",
              "          const docLink = document.createElement('div');\n",
              "          docLink.innerHTML = docLinkHtml;\n",
              "          element.appendChild(docLink);\n",
              "        }\n",
              "      </script>\n",
              "    </div>\n",
              "  </div>\n",
              "  "
            ]
          },
          "metadata": {},
          "execution_count": 25
        }
      ]
    },
    {
      "cell_type": "code",
      "source": [
        "#Import Skater SH Data\n",
        "skater_SH_rates_raw = pd.read_csv('https://raw.githubusercontent.com/mikeytw11/Hockey-Model/main/Files/SH%20On-Ice%20Rates.csv')\n",
        "#skater_SH_rates_raw.head()"
      ],
      "metadata": {
        "id": "NsFSd-NEslMM"
      },
      "execution_count": 26,
      "outputs": []
    },
    {
      "cell_type": "code",
      "source": [
        "#Restrict data columns to Player, Season, Team, Position, GP, TOI, G/60, F/60, C/60, xG/60\n",
        "skater_SH_rates = skater_SH_rates_raw.loc[:,['Player','Season','Team','Position','GP','TOI','G±/60','F±/60','C±/60','xG±/60']]\n",
        "#skater_SH_rates.head()"
      ],
      "metadata": {
        "id": "OuerO2wnsn5_"
      },
      "execution_count": 27,
      "outputs": []
    },
    {
      "cell_type": "code",
      "source": [
        "#Convert TOI to seconds\n",
        "skater_SH_rates['TOI_SH'] = skater_SH_rates['TOI'] * 60"
      ],
      "metadata": {
        "id": "iMo9RiE49rOG"
      },
      "execution_count": 28,
      "outputs": []
    },
    {
      "cell_type": "code",
      "source": [
        "#Separate Forwards and Defense in order to get averages for each position\n",
        "forwards_SH = skater_SH_rates.loc[skater_SH_rates.Position!=\"D\"]\n",
        "defense_SH = skater_SH_rates.loc[skater_SH_rates.Position==\"D\"]\n",
        "#forwards_SH.head()"
      ],
      "metadata": {
        "id": "zcOxhNEZ-K21"
      },
      "execution_count": 29,
      "outputs": []
    },
    {
      "cell_type": "code",
      "source": [
        "#Calculate Variables/s for Forward Table\n",
        "pd.options.mode.chained_assignment = None\n",
        "forwards_SH['G/s'] = forwards_SH['G±/60'] / 3600\n",
        "forwards_SH['F/s'] = forwards_SH['F±/60'] / 3600\n",
        "forwards_SH['C/s'] = forwards_SH['C±/60'] / 3600\n",
        "forwards_SH['xG/s'] = forwards_SH['xG±/60'] / 3600\n",
        "#forwards_SH.head()"
      ],
      "metadata": {
        "id": "ILXT7TvG_d_U"
      },
      "execution_count": 30,
      "outputs": []
    },
    {
      "cell_type": "code",
      "source": [
        "#Calculate variable/s for Defense Table\n",
        "defense_SH['G/s'] = defense_SH['G±/60'] / 3600\n",
        "defense_SH['F/s'] = defense_SH['F±/60'] / 3600\n",
        "defense_SH['C/s'] = defense_SH['C±/60'] / 3600\n",
        "defense_SH['xG/s'] = defense_SH['xG±/60'] / 3600\n",
        "#defense_SH.head()"
      ],
      "metadata": {
        "id": "KwJm-ptV_lLM"
      },
      "execution_count": 31,
      "outputs": []
    },
    {
      "cell_type": "code",
      "source": [
        "#Calculate averages per second for forwards and defensemen\n",
        "avg_forward_G_SH = forwards_SH['G/s'].mean()\n",
        "avg_forward_F_SH = forwards_SH['F/s'].mean()\n",
        "avg_forward_C_SH = forwards_SH['C/s'].mean()\n",
        "avg_forward_xG_SH = forwards_SH['xG/s'].mean()\n",
        "\n",
        "avg_defense_G_SH = defense_SH['G/s'].mean()\n",
        "avg_defense_F_SH = defense_SH['F/s'].mean()\n",
        "avg_defense_C_SH = defense_SH['C/s'].mean()\n",
        "avg_defense_xG_SH = defense_SH['xG/s'].mean()"
      ],
      "metadata": {
        "id": "JtLIl8QHAKb6"
      },
      "execution_count": 32,
      "outputs": []
    },
    {
      "cell_type": "code",
      "source": [
        "#Add impact columns to Forward table\n",
        "forwards_SH['G Impact'] = (forwards_SH['G/s']-avg_forward_G_SH) * forwards_SH['TOI_SH']\n",
        "forwards_SH['F Impact'] = (forwards_SH['F/s']-avg_forward_F_SH) * forwards_SH['TOI_SH']\n",
        "forwards_SH['C Impact'] = (forwards_SH['C/s']-avg_forward_C_SH) * forwards_SH['TOI_SH']\n",
        "forwards_SH['xG Impact'] = (forwards_SH['xG/s']-avg_forward_xG_SH) * forwards_SH['TOI_SH']\n",
        "#forwards_SH"
      ],
      "metadata": {
        "id": "Z7MbV5ZUB9pJ"
      },
      "execution_count": 33,
      "outputs": []
    },
    {
      "cell_type": "code",
      "source": [
        "#Restrict data for Forwards table\n",
        "forwards_SH = forwards_SH.loc[:,['Player', 'Season', 'Team', 'Position', 'GP', 'G Impact', 'F Impact', 'C Impact', 'xG Impact']]\n",
        "#forwards_SH.head()"
      ],
      "metadata": {
        "id": "L_HvPL-2CK86"
      },
      "execution_count": 34,
      "outputs": []
    },
    {
      "cell_type": "code",
      "source": [
        "#Add impact columns to defense table\n",
        "defense_SH['G Impact'] = (defense_SH['G/s']-avg_defense_G_SH) * defense_SH['TOI_SH']\n",
        "defense_SH['F Impact'] = (defense_SH['F/s']-avg_defense_F_SH) * defense_SH['TOI_SH']\n",
        "defense_SH['C Impact'] = (defense_SH['C/s']-avg_defense_C_SH) * defense_SH['TOI_SH']\n",
        "defense_SH['xG Impact'] = (defense_SH['xG/s']-avg_defense_xG_SH) * defense_SH['TOI_SH']\n",
        "#defense_SH"
      ],
      "metadata": {
        "id": "P3lglfbeChyl"
      },
      "execution_count": 35,
      "outputs": []
    },
    {
      "cell_type": "code",
      "source": [
        "#Restrict data for defense table\n",
        "defense_SH = defense_SH.loc[:,['Player', 'Season', 'Team', 'Position', 'GP', 'G Impact', 'F Impact', 'C Impact', 'xG Impact']]\n",
        "#defense_SH.head()"
      ],
      "metadata": {
        "id": "u2HQF-RFCrJw"
      },
      "execution_count": 36,
      "outputs": []
    },
    {
      "cell_type": "code",
      "source": [
        "#Merge forwards and defense tables together\n",
        "concat_frames = [forwards_SH, defense_SH]\n",
        "skater_SH = pd.concat(concat_frames)\n",
        "skater_SH"
      ],
      "metadata": {
        "colab": {
          "base_uri": "https://localhost:8080/",
          "height": 424
        },
        "id": "H8VgSLTsC8Mv",
        "outputId": "931d26fa-2097-485f-980b-5904aef9d65a"
      },
      "execution_count": 37,
      "outputs": [
        {
          "output_type": "execute_result",
          "data": {
            "text/plain": [
              "               Player Season Team Position  GP  G Impact   F Impact  \\\n",
              "5       Adam Henrique  19-20  ANA        C  70  2.025321  11.496054   \n",
              "6       Adam Henrique  20-21  ANA        C  44 -3.209840  -6.464298   \n",
              "10         Adam Lowry  19-20  WPG        L  48 -0.025562 -12.486435   \n",
              "11         Adam Lowry  20-21  WPG        L  52  2.821355   6.395069   \n",
              "12         Adam Lowry  21-22  WPG      C/L  76 -5.175118 -37.959907   \n",
              "...               ...    ...  ...      ...  ..       ...        ...   \n",
              "1276  Zach Whitecloud  20-21  VGK        D  49  3.135511  42.931355   \n",
              "1277  Zach Whitecloud  21-22  VGK        D  58 -6.367926 -17.419022   \n",
              "1279      Zdeno Chara  19-20  BOS        D  67  1.347726  14.084769   \n",
              "1280      Zdeno Chara  20-21  WSH        D  55 -0.782653  10.340557   \n",
              "1281      Zdeno Chara  21-22  NYI        D  68  7.424736   6.539726   \n",
              "\n",
              "       C Impact  xG Impact  \n",
              "5     15.510498   0.463671  \n",
              "6     -7.016718  -0.562624  \n",
              "10   -19.316160   1.092411  \n",
              "11     0.538890   1.053930  \n",
              "12   -23.785815  -3.018315  \n",
              "...         ...        ...  \n",
              "1276  39.860350   4.566373  \n",
              "1277 -38.219136  -3.826934  \n",
              "1279  21.583318   1.044979  \n",
              "1280  19.695075  -0.721584  \n",
              "1281  23.562904   1.076105  \n",
              "\n",
              "[1284 rows x 9 columns]"
            ],
            "text/html": [
              "\n",
              "  <div id=\"df-de10feae-8f34-40de-9ae9-755e7b6f3e31\">\n",
              "    <div class=\"colab-df-container\">\n",
              "      <div>\n",
              "<style scoped>\n",
              "    .dataframe tbody tr th:only-of-type {\n",
              "        vertical-align: middle;\n",
              "    }\n",
              "\n",
              "    .dataframe tbody tr th {\n",
              "        vertical-align: top;\n",
              "    }\n",
              "\n",
              "    .dataframe thead th {\n",
              "        text-align: right;\n",
              "    }\n",
              "</style>\n",
              "<table border=\"1\" class=\"dataframe\">\n",
              "  <thead>\n",
              "    <tr style=\"text-align: right;\">\n",
              "      <th></th>\n",
              "      <th>Player</th>\n",
              "      <th>Season</th>\n",
              "      <th>Team</th>\n",
              "      <th>Position</th>\n",
              "      <th>GP</th>\n",
              "      <th>G Impact</th>\n",
              "      <th>F Impact</th>\n",
              "      <th>C Impact</th>\n",
              "      <th>xG Impact</th>\n",
              "    </tr>\n",
              "  </thead>\n",
              "  <tbody>\n",
              "    <tr>\n",
              "      <th>5</th>\n",
              "      <td>Adam Henrique</td>\n",
              "      <td>19-20</td>\n",
              "      <td>ANA</td>\n",
              "      <td>C</td>\n",
              "      <td>70</td>\n",
              "      <td>2.025321</td>\n",
              "      <td>11.496054</td>\n",
              "      <td>15.510498</td>\n",
              "      <td>0.463671</td>\n",
              "    </tr>\n",
              "    <tr>\n",
              "      <th>6</th>\n",
              "      <td>Adam Henrique</td>\n",
              "      <td>20-21</td>\n",
              "      <td>ANA</td>\n",
              "      <td>C</td>\n",
              "      <td>44</td>\n",
              "      <td>-3.209840</td>\n",
              "      <td>-6.464298</td>\n",
              "      <td>-7.016718</td>\n",
              "      <td>-0.562624</td>\n",
              "    </tr>\n",
              "    <tr>\n",
              "      <th>10</th>\n",
              "      <td>Adam Lowry</td>\n",
              "      <td>19-20</td>\n",
              "      <td>WPG</td>\n",
              "      <td>L</td>\n",
              "      <td>48</td>\n",
              "      <td>-0.025562</td>\n",
              "      <td>-12.486435</td>\n",
              "      <td>-19.316160</td>\n",
              "      <td>1.092411</td>\n",
              "    </tr>\n",
              "    <tr>\n",
              "      <th>11</th>\n",
              "      <td>Adam Lowry</td>\n",
              "      <td>20-21</td>\n",
              "      <td>WPG</td>\n",
              "      <td>L</td>\n",
              "      <td>52</td>\n",
              "      <td>2.821355</td>\n",
              "      <td>6.395069</td>\n",
              "      <td>0.538890</td>\n",
              "      <td>1.053930</td>\n",
              "    </tr>\n",
              "    <tr>\n",
              "      <th>12</th>\n",
              "      <td>Adam Lowry</td>\n",
              "      <td>21-22</td>\n",
              "      <td>WPG</td>\n",
              "      <td>C/L</td>\n",
              "      <td>76</td>\n",
              "      <td>-5.175118</td>\n",
              "      <td>-37.959907</td>\n",
              "      <td>-23.785815</td>\n",
              "      <td>-3.018315</td>\n",
              "    </tr>\n",
              "    <tr>\n",
              "      <th>...</th>\n",
              "      <td>...</td>\n",
              "      <td>...</td>\n",
              "      <td>...</td>\n",
              "      <td>...</td>\n",
              "      <td>...</td>\n",
              "      <td>...</td>\n",
              "      <td>...</td>\n",
              "      <td>...</td>\n",
              "      <td>...</td>\n",
              "    </tr>\n",
              "    <tr>\n",
              "      <th>1276</th>\n",
              "      <td>Zach Whitecloud</td>\n",
              "      <td>20-21</td>\n",
              "      <td>VGK</td>\n",
              "      <td>D</td>\n",
              "      <td>49</td>\n",
              "      <td>3.135511</td>\n",
              "      <td>42.931355</td>\n",
              "      <td>39.860350</td>\n",
              "      <td>4.566373</td>\n",
              "    </tr>\n",
              "    <tr>\n",
              "      <th>1277</th>\n",
              "      <td>Zach Whitecloud</td>\n",
              "      <td>21-22</td>\n",
              "      <td>VGK</td>\n",
              "      <td>D</td>\n",
              "      <td>58</td>\n",
              "      <td>-6.367926</td>\n",
              "      <td>-17.419022</td>\n",
              "      <td>-38.219136</td>\n",
              "      <td>-3.826934</td>\n",
              "    </tr>\n",
              "    <tr>\n",
              "      <th>1279</th>\n",
              "      <td>Zdeno Chara</td>\n",
              "      <td>19-20</td>\n",
              "      <td>BOS</td>\n",
              "      <td>D</td>\n",
              "      <td>67</td>\n",
              "      <td>1.347726</td>\n",
              "      <td>14.084769</td>\n",
              "      <td>21.583318</td>\n",
              "      <td>1.044979</td>\n",
              "    </tr>\n",
              "    <tr>\n",
              "      <th>1280</th>\n",
              "      <td>Zdeno Chara</td>\n",
              "      <td>20-21</td>\n",
              "      <td>WSH</td>\n",
              "      <td>D</td>\n",
              "      <td>55</td>\n",
              "      <td>-0.782653</td>\n",
              "      <td>10.340557</td>\n",
              "      <td>19.695075</td>\n",
              "      <td>-0.721584</td>\n",
              "    </tr>\n",
              "    <tr>\n",
              "      <th>1281</th>\n",
              "      <td>Zdeno Chara</td>\n",
              "      <td>21-22</td>\n",
              "      <td>NYI</td>\n",
              "      <td>D</td>\n",
              "      <td>68</td>\n",
              "      <td>7.424736</td>\n",
              "      <td>6.539726</td>\n",
              "      <td>23.562904</td>\n",
              "      <td>1.076105</td>\n",
              "    </tr>\n",
              "  </tbody>\n",
              "</table>\n",
              "<p>1284 rows × 9 columns</p>\n",
              "</div>\n",
              "      <button class=\"colab-df-convert\" onclick=\"convertToInteractive('df-de10feae-8f34-40de-9ae9-755e7b6f3e31')\"\n",
              "              title=\"Convert this dataframe to an interactive table.\"\n",
              "              style=\"display:none;\">\n",
              "        \n",
              "  <svg xmlns=\"http://www.w3.org/2000/svg\" height=\"24px\"viewBox=\"0 0 24 24\"\n",
              "       width=\"24px\">\n",
              "    <path d=\"M0 0h24v24H0V0z\" fill=\"none\"/>\n",
              "    <path d=\"M18.56 5.44l.94 2.06.94-2.06 2.06-.94-2.06-.94-.94-2.06-.94 2.06-2.06.94zm-11 1L8.5 8.5l.94-2.06 2.06-.94-2.06-.94L8.5 2.5l-.94 2.06-2.06.94zm10 10l.94 2.06.94-2.06 2.06-.94-2.06-.94-.94-2.06-.94 2.06-2.06.94z\"/><path d=\"M17.41 7.96l-1.37-1.37c-.4-.4-.92-.59-1.43-.59-.52 0-1.04.2-1.43.59L10.3 9.45l-7.72 7.72c-.78.78-.78 2.05 0 2.83L4 21.41c.39.39.9.59 1.41.59.51 0 1.02-.2 1.41-.59l7.78-7.78 2.81-2.81c.8-.78.8-2.07 0-2.86zM5.41 20L4 18.59l7.72-7.72 1.47 1.35L5.41 20z\"/>\n",
              "  </svg>\n",
              "      </button>\n",
              "      \n",
              "  <style>\n",
              "    .colab-df-container {\n",
              "      display:flex;\n",
              "      flex-wrap:wrap;\n",
              "      gap: 12px;\n",
              "    }\n",
              "\n",
              "    .colab-df-convert {\n",
              "      background-color: #E8F0FE;\n",
              "      border: none;\n",
              "      border-radius: 50%;\n",
              "      cursor: pointer;\n",
              "      display: none;\n",
              "      fill: #1967D2;\n",
              "      height: 32px;\n",
              "      padding: 0 0 0 0;\n",
              "      width: 32px;\n",
              "    }\n",
              "\n",
              "    .colab-df-convert:hover {\n",
              "      background-color: #E2EBFA;\n",
              "      box-shadow: 0px 1px 2px rgba(60, 64, 67, 0.3), 0px 1px 3px 1px rgba(60, 64, 67, 0.15);\n",
              "      fill: #174EA6;\n",
              "    }\n",
              "\n",
              "    [theme=dark] .colab-df-convert {\n",
              "      background-color: #3B4455;\n",
              "      fill: #D2E3FC;\n",
              "    }\n",
              "\n",
              "    [theme=dark] .colab-df-convert:hover {\n",
              "      background-color: #434B5C;\n",
              "      box-shadow: 0px 1px 3px 1px rgba(0, 0, 0, 0.15);\n",
              "      filter: drop-shadow(0px 1px 2px rgba(0, 0, 0, 0.3));\n",
              "      fill: #FFFFFF;\n",
              "    }\n",
              "  </style>\n",
              "\n",
              "      <script>\n",
              "        const buttonEl =\n",
              "          document.querySelector('#df-de10feae-8f34-40de-9ae9-755e7b6f3e31 button.colab-df-convert');\n",
              "        buttonEl.style.display =\n",
              "          google.colab.kernel.accessAllowed ? 'block' : 'none';\n",
              "\n",
              "        async function convertToInteractive(key) {\n",
              "          const element = document.querySelector('#df-de10feae-8f34-40de-9ae9-755e7b6f3e31');\n",
              "          const dataTable =\n",
              "            await google.colab.kernel.invokeFunction('convertToInteractive',\n",
              "                                                     [key], {});\n",
              "          if (!dataTable) return;\n",
              "\n",
              "          const docLinkHtml = 'Like what you see? Visit the ' +\n",
              "            '<a target=\"_blank\" href=https://colab.research.google.com/notebooks/data_table.ipynb>data table notebook</a>'\n",
              "            + ' to learn more about interactive tables.';\n",
              "          element.innerHTML = '';\n",
              "          dataTable['output_type'] = 'display_data';\n",
              "          await google.colab.output.renderOutput(dataTable, element);\n",
              "          const docLink = document.createElement('div');\n",
              "          docLink.innerHTML = docLinkHtml;\n",
              "          element.appendChild(docLink);\n",
              "        }\n",
              "      </script>\n",
              "    </div>\n",
              "  </div>\n",
              "  "
            ]
          },
          "metadata": {},
          "execution_count": 37
        }
      ]
    },
    {
      "cell_type": "code",
      "source": [
        "#Rename columns for skater data\n",
        "skater_EV = skater_EV.rename(columns = {'G Impact':'G_EV','F Impact':'F_EV','C Impact':'C_EV','xG Impact':'xG_EV'})\n",
        "skater_PP = skater_PP.rename(columns = {'G Impact':'G_PP','F Impact':'F_PP','C Impact':'C_PP','xG Impact':'xG_PP'})\n",
        "skater_SH = skater_SH.rename(columns = {'G Impact':'G_SH','F Impact':'F_SH','C Impact':'C_SH','xG Impact':'xG_SH'})"
      ],
      "metadata": {
        "id": "9TQ9yqTeRs2y"
      },
      "execution_count": 38,
      "outputs": []
    },
    {
      "cell_type": "code",
      "source": [
        "#Merge player data for EV and PP\n",
        "full_skater_data = "
      ],
      "metadata": {
        "id": "s0ZK-pFuScj8"
      },
      "execution_count": 39,
      "outputs": []
    },
    {
      "cell_type": "markdown",
      "source": [
        "Don't need all the impact columns for the PP and SH data tables. Change that data to reflect PP G+/- and SH G+/-."
      ],
      "metadata": {
        "id": "_GCafrSXF_1B"
      }
    }
  ]
}